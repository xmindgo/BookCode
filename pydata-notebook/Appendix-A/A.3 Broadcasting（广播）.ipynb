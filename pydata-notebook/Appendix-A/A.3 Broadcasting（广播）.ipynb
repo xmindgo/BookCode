{
 "cells": [
  {
   "cell_type": "markdown",
   "metadata": {},
   "source": [
    "# A.3 Broadcasting（广播）\n",
    "\n",
    "广播（Broadcasting）指的是有不同形状的数组是如何进行运算的。尽管很强大，但却很容易被混淆。一个最简单的例子是把一个标量作用在一个数组上的时候："
   ]
  },
  {
   "cell_type": "code",
   "execution_count": 1,
   "metadata": {
    "collapsed": true
   },
   "outputs": [],
   "source": [
    "import numpy as np"
   ]
  },
  {
   "cell_type": "code",
   "execution_count": 2,
   "metadata": {
    "collapsed": false
   },
   "outputs": [
    {
     "data": {
      "text/plain": [
       "array([0, 1, 2, 3, 4])"
      ]
     },
     "execution_count": 2,
     "metadata": {},
     "output_type": "execute_result"
    }
   ],
   "source": [
    "arr = np.arange(5)\n",
    "arr"
   ]
  },
  {
   "cell_type": "code",
   "execution_count": 3,
   "metadata": {
    "collapsed": false
   },
   "outputs": [
    {
     "data": {
      "text/plain": [
       "array([ 0,  4,  8, 12, 16])"
      ]
     },
     "execution_count": 3,
     "metadata": {},
     "output_type": "execute_result"
    }
   ],
   "source": [
    "arr * 4"
   ]
  },
  {
   "cell_type": "markdown",
   "metadata": {},
   "source": [
    "这里我们说标量4被广播给了其他元素。\n",
    "\n",
    "例如，我们想要把每一列的数组都减去这一列的平均数（这种做法为demean，译为减去平均数）："
   ]
  },
  {
   "cell_type": "code",
   "execution_count": 4,
   "metadata": {
    "collapsed": false,
    "scrolled": true
   },
   "outputs": [
    {
     "data": {
      "text/plain": [
       "array([[ 0.19112706, -0.07585204,  1.33214545],\n",
       "       [-1.51473946,  1.29163832,  0.22056989],\n",
       "       [ 0.5696424 , -1.11391716,  0.13913336],\n",
       "       [ 1.2059608 , -0.71633243, -0.2735593 ]])"
      ]
     },
     "execution_count": 4,
     "metadata": {},
     "output_type": "execute_result"
    }
   ],
   "source": [
    "arr = np.random.randn(4, 3)\n",
    "arr"
   ]
  },
  {
   "cell_type": "code",
   "execution_count": 5,
   "metadata": {
    "collapsed": false
   },
   "outputs": [
    {
     "data": {
      "text/plain": [
       "array([ 0.1129977 , -0.15361583,  0.35457235])"
      ]
     },
     "execution_count": 5,
     "metadata": {},
     "output_type": "execute_result"
    }
   ],
   "source": [
    "arr.mean(0)"
   ]
  },
  {
   "cell_type": "code",
   "execution_count": 6,
   "metadata": {
    "collapsed": false
   },
   "outputs": [
    {
     "data": {
      "text/plain": [
       "array([[ 0.07812936,  0.07776379,  0.9775731 ],\n",
       "       [-1.62773716,  1.44525415, -0.13400246],\n",
       "       [ 0.4566447 , -0.96030133, -0.21543899],\n",
       "       [ 1.0929631 , -0.5627166 , -0.62813165]])"
      ]
     },
     "execution_count": 6,
     "metadata": {},
     "output_type": "execute_result"
    }
   ],
   "source": [
    "demeaned = arr - arr.mean(0)\n",
    "demeaned"
   ]
  },
  {
   "cell_type": "code",
   "execution_count": 7,
   "metadata": {
    "collapsed": false
   },
   "outputs": [
    {
     "data": {
      "text/plain": [
       "array([  5.55111512e-17,   5.55111512e-17,   2.77555756e-17])"
      ]
     },
     "execution_count": 7,
     "metadata": {},
     "output_type": "execute_result"
    }
   ],
   "source": [
    "demeaned.mean(0) # 下面的结果可以理解为等于0"
   ]
  },
  {
   "cell_type": "markdown",
   "metadata": {},
   "source": [
    "下图演示了上面的操作原理。对行进行减去平均数是一种广播操作，这种操作需要小心一点。不过只要遵守规则，广播可以把低维的值广播到一个数组上的任何维度（比如在一个二维数组中，让每一行减去那一行的平均值）。\n",
    "\n",
    "![](http://oydgk2hgw.bkt.clouddn.com/pydata-book/rov3s.png)\n",
    "\n",
    "**The Broadcasting Rule**（广播规则）\n",
    "\n",
    "Two arrays are compatible for broadcasting if for each trailing dimension (i.e., starting from the end) the axis lengths match or if either of the lengths is 1. Broadcasting is then performed over the missing or length 1 dimensions.\n",
    "\n",
    "要想让两个数组进行广播，在每个结尾的维度上，轴的长度是匹配的，或者长度为1。然后广播会在缺失的，或长度为1的维度上进行。\n",
    "\n",
    "考虑一下上面的例子，假设我们想要减去每一列的平均值。因为`arr.mean(0)`长度为3，而且arr的尾部维度也是3，二者匹配，所以是能沿着轴为0进行广播的。根据上面的规则，要想沿着轴为1减去平均值（即每一行减去当前行的平均值），最小的数组形状必须是（4，1）："
   ]
  },
  {
   "cell_type": "code",
   "execution_count": 8,
   "metadata": {
    "collapsed": false
   },
   "outputs": [
    {
     "data": {
      "text/plain": [
       "array([[ 0.19112706, -0.07585204,  1.33214545],\n",
       "       [-1.51473946,  1.29163832,  0.22056989],\n",
       "       [ 0.5696424 , -1.11391716,  0.13913336],\n",
       "       [ 1.2059608 , -0.71633243, -0.2735593 ]])"
      ]
     },
     "execution_count": 8,
     "metadata": {},
     "output_type": "execute_result"
    }
   ],
   "source": [
    "arr"
   ]
  },
  {
   "cell_type": "code",
   "execution_count": 10,
   "metadata": {
    "collapsed": false
   },
   "outputs": [
    {
     "data": {
      "text/plain": [
       "array([ 0.48247349, -0.00084375, -0.13504713,  0.07202302])"
      ]
     },
     "execution_count": 10,
     "metadata": {},
     "output_type": "execute_result"
    }
   ],
   "source": [
    "row_means = arr.mean(1)\n",
    "row_means"
   ]
  },
  {
   "cell_type": "code",
   "execution_count": 11,
   "metadata": {
    "collapsed": false
   },
   "outputs": [
    {
     "data": {
      "text/plain": [
       "(4,)"
      ]
     },
     "execution_count": 11,
     "metadata": {},
     "output_type": "execute_result"
    }
   ],
   "source": [
    "row_means.shape"
   ]
  },
  {
   "cell_type": "code",
   "execution_count": 12,
   "metadata": {
    "collapsed": false
   },
   "outputs": [
    {
     "data": {
      "text/plain": [
       "array([[ 0.48247349],\n",
       "       [-0.00084375],\n",
       "       [-0.13504713],\n",
       "       [ 0.07202302]])"
      ]
     },
     "execution_count": 12,
     "metadata": {},
     "output_type": "execute_result"
    }
   ],
   "source": [
    "row_means.reshape((4, 1))"
   ]
  },
  {
   "cell_type": "code",
   "execution_count": 14,
   "metadata": {
    "collapsed": false
   },
   "outputs": [
    {
     "data": {
      "text/plain": [
       "array([[-0.29134643, -0.55832553,  0.84967196],\n",
       "       [-1.51389571,  1.29248207,  0.22141364],\n",
       "       [ 0.70468953, -0.97887003,  0.2741805 ],\n",
       "       [ 1.13393778, -0.78835545, -0.34558232]])"
      ]
     },
     "execution_count": 14,
     "metadata": {},
     "output_type": "execute_result"
    }
   ],
   "source": [
    "demeaned = arr - row_means.reshape((4, 1))\n",
    "demeaned"
   ]
  },
  {
   "cell_type": "code",
   "execution_count": 16,
   "metadata": {
    "collapsed": false
   },
   "outputs": [
    {
     "data": {
      "text/plain": [
       "array([ -3.70074342e-17,  -2.77555756e-17,   1.85037171e-17,\n",
       "         1.85037171e-17])"
      ]
     },
     "execution_count": 16,
     "metadata": {},
     "output_type": "execute_result"
    }
   ],
   "source": [
    "demeaned.mean(1) # 下面的数字可以理解为0"
   ]
  },
  {
   "cell_type": "markdown",
   "metadata": {},
   "source": [
    "上面操作的示意图：\n",
    "\n",
    "![](http://oydgk2hgw.bkt.clouddn.com/pydata-book/7cc17.png)\n",
    "\n",
    "下面是把一个二维数组加到一个三维数组上，沿着轴为0：\n",
    "\n",
    "![](http://oydgk2hgw.bkt.clouddn.com/pydata-book/sefsx.png)\n",
    "\n",
    "# 1 Broadcasting Over Other Axes（在其他轴上进行广播）\n",
    "\n",
    "在高维数组上进行广播要小心一些，不然就会得到下面这样的错误："
   ]
  },
  {
   "cell_type": "code",
   "execution_count": 17,
   "metadata": {
    "collapsed": false
   },
   "outputs": [
    {
     "ename": "ValueError",
     "evalue": "operands could not be broadcast together with shapes (4,3) (4,) ",
     "output_type": "error",
     "traceback": [
      "\u001b[0;31m---------------------------------------------------------------------------\u001b[0m",
      "\u001b[0;31mValueError\u001b[0m                                Traceback (most recent call last)",
      "\u001b[0;32m<ipython-input-17-7b87b85a20b2>\u001b[0m in \u001b[0;36m<module>\u001b[0;34m()\u001b[0m\n\u001b[0;32m----> 1\u001b[0;31m \u001b[0marr\u001b[0m \u001b[0;34m-\u001b[0m \u001b[0marr\u001b[0m\u001b[0;34m.\u001b[0m\u001b[0mmean\u001b[0m\u001b[0;34m(\u001b[0m\u001b[0;36m1\u001b[0m\u001b[0;34m)\u001b[0m\u001b[0;34m\u001b[0m\u001b[0m\n\u001b[0m",
      "\u001b[0;31mValueError\u001b[0m: operands could not be broadcast together with shapes (4,3) (4,) "
     ]
    }
   ],
   "source": [
    "arr - arr.mean(1)"
   ]
  },
  {
   "cell_type": "markdown",
   "metadata": {},
   "source": [
    "根据广播的规则，在一个小数组上，广播的维度必须是1。下面的例子里，把维度从(4,)变为了(4, 1):"
   ]
  },
  {
   "cell_type": "code",
   "execution_count": 18,
   "metadata": {
    "collapsed": false
   },
   "outputs": [
    {
     "data": {
      "text/plain": [
       "array([[-0.29134643, -0.55832553,  0.84967196],\n",
       "       [-1.51389571,  1.29248207,  0.22141364],\n",
       "       [ 0.70468953, -0.97887003,  0.2741805 ],\n",
       "       [ 1.13393778, -0.78835545, -0.34558232]])"
      ]
     },
     "execution_count": 18,
     "metadata": {},
     "output_type": "execute_result"
    }
   ],
   "source": [
    "arr - arr.mean(1).reshape((4, 1))"
   ]
  },
  {
   "cell_type": "markdown",
   "metadata": {},
   "source": [
    "对于三维的数组，只需要把数据变形为合适的形状即可。下图展示了如何在一个三位数组上的每一个维度进行广播：\n",
    "\n",
    "![](http://oydgk2hgw.bkt.clouddn.com/pydata-book/f25u0.png)\n",
    "\n",
    "所以有一个问题，就是要给长度为1的数组添加一个轴，才能用于广播。使用reshape是一种方法，但是插入一个轴需要构建一个元组用来指明新的形状，这个比较玛法。因此，numpy数组提供了一个特别的语法，通过索引来插入新的轴。这里使用np.newaxis属性："
   ]
  },
  {
   "cell_type": "code",
   "execution_count": 24,
   "metadata": {
    "collapsed": false
   },
   "outputs": [
    {
     "data": {
      "text/plain": [
       "array([[ 0.,  0.,  0.,  0.],\n",
       "       [ 0.,  0.,  0.,  0.],\n",
       "       [ 0.,  0.,  0.,  0.],\n",
       "       [ 0.,  0.,  0.,  0.]])"
      ]
     },
     "execution_count": 24,
     "metadata": {},
     "output_type": "execute_result"
    }
   ],
   "source": [
    "arr = np.zeros((4, 4))\n",
    "arr"
   ]
  },
  {
   "cell_type": "code",
   "execution_count": 25,
   "metadata": {
    "collapsed": false
   },
   "outputs": [
    {
     "name": "stdout",
     "output_type": "stream",
     "text": [
      "(4, 1, 4)\n",
      "[[[ 0.  0.  0.  0.]]\n",
      "\n",
      " [[ 0.  0.  0.  0.]]\n",
      "\n",
      " [[ 0.  0.  0.  0.]]\n",
      "\n",
      " [[ 0.  0.  0.  0.]]]\n"
     ]
    }
   ],
   "source": [
    "arr_3d = arr[:, np.newaxis, :]\n",
    "print(arr_3d.shape)\n",
    "print(arr_3d)"
   ]
  },
  {
   "cell_type": "code",
   "execution_count": 22,
   "metadata": {
    "collapsed": false
   },
   "outputs": [
    {
     "data": {
      "text/plain": [
       "array([ 1.13938971,  0.36583158, -2.66511773])"
      ]
     },
     "execution_count": 22,
     "metadata": {},
     "output_type": "execute_result"
    }
   ],
   "source": [
    "arr_1d = np.random.normal(size=3)\n",
    "arr_1d"
   ]
  },
  {
   "cell_type": "code",
   "execution_count": 23,
   "metadata": {
    "collapsed": false
   },
   "outputs": [
    {
     "data": {
      "text/plain": [
       "array([[ 1.13938971],\n",
       "       [ 0.36583158],\n",
       "       [-2.66511773]])"
      ]
     },
     "execution_count": 23,
     "metadata": {},
     "output_type": "execute_result"
    }
   ],
   "source": [
    "arr_1d[:, np.newaxis]"
   ]
  },
  {
   "cell_type": "code",
   "execution_count": 26,
   "metadata": {
    "collapsed": false
   },
   "outputs": [
    {
     "data": {
      "text/plain": [
       "array([[ 1.13938971,  0.36583158, -2.66511773]])"
      ]
     },
     "execution_count": 26,
     "metadata": {},
     "output_type": "execute_result"
    }
   ],
   "source": [
    "arr_1d[np.newaxis, :]"
   ]
  },
  {
   "cell_type": "markdown",
   "metadata": {},
   "source": [
    "如果我们有一个三维数组，想要在轴2上减去平均值，我们需要这么做："
   ]
  },
  {
   "cell_type": "code",
   "execution_count": 28,
   "metadata": {
    "collapsed": false
   },
   "outputs": [
    {
     "data": {
      "text/plain": [
       "array([[-0.76576042, -0.34515386, -0.29435899, -0.6558081 ],\n",
       "       [ 0.33125031,  0.45033654, -0.67248223,  0.51666093],\n",
       "       [-0.63660478, -0.4296203 ,  0.44219882,  0.32036302]])"
      ]
     },
     "execution_count": 28,
     "metadata": {},
     "output_type": "execute_result"
    }
   ],
   "source": [
    "arr = np.random.randn(3, 4, 5)\n",
    "depth_means = arr.mean(2)\n",
    "depth_means"
   ]
  },
  {
   "cell_type": "code",
   "execution_count": 29,
   "metadata": {
    "collapsed": false
   },
   "outputs": [
    {
     "data": {
      "text/plain": [
       "(3, 4)"
      ]
     },
     "execution_count": 29,
     "metadata": {},
     "output_type": "execute_result"
    }
   ],
   "source": [
    "depth_means.shape"
   ]
  },
  {
   "cell_type": "code",
   "execution_count": 30,
   "metadata": {
    "collapsed": false
   },
   "outputs": [
    {
     "data": {
      "text/plain": [
       "array([[ -8.88178420e-17,   4.44089210e-17,   3.33066907e-17,\n",
       "          4.44089210e-17],\n",
       "       [ -1.66533454e-17,  -1.11022302e-17,   1.11022302e-16,\n",
       "          6.66133815e-17],\n",
       "       [ -6.66133815e-17,   0.00000000e+00,   0.00000000e+00,\n",
       "          4.44089210e-17]])"
      ]
     },
     "execution_count": 30,
     "metadata": {},
     "output_type": "execute_result"
    }
   ],
   "source": [
    "demeaned = arr - depth_means[:, :, np.newaxis]\n",
    "demeaned.mean(2) # 下面的结果可以理解为0"
   ]
  },
  {
   "cell_type": "markdown",
   "metadata": {},
   "source": [
    "我们可能会奇怪是否可以在不牺牲性能的同时，在一个轴上进行减去中平均值的操作。有，但是需要一些特别的索引方法："
   ]
  },
  {
   "cell_type": "code",
   "execution_count": 31,
   "metadata": {
    "collapsed": true
   },
   "outputs": [],
   "source": [
    "def demean_axis(arr, axis=0):\n",
    "    means = arr.mean(axis)\n",
    "    \n",
    "    # This generalizes things like [:, :, np.newaxis] to N dimensions\n",
    "    indexer = [slice(None)] * arr.ndim\n",
    "    indexer[axis] = np.newaxis\n",
    "    return arr - means[indexer]"
   ]
  },
  {
   "cell_type": "markdown",
   "metadata": {},
   "source": [
    "# 2 Setting Array Values by Broadcasting（通过广播设置数组值）\n",
    "\n",
    "上面讲到的广播规则，同样可以适用于通过索引设置值。比如："
   ]
  },
  {
   "cell_type": "code",
   "execution_count": 32,
   "metadata": {
    "collapsed": false
   },
   "outputs": [
    {
     "data": {
      "text/plain": [
       "array([[ 0.,  0.,  0.],\n",
       "       [ 0.,  0.,  0.],\n",
       "       [ 0.,  0.,  0.],\n",
       "       [ 0.,  0.,  0.]])"
      ]
     },
     "execution_count": 32,
     "metadata": {},
     "output_type": "execute_result"
    }
   ],
   "source": [
    "arr = np.zeros((4, 3))\n",
    "arr"
   ]
  },
  {
   "cell_type": "code",
   "execution_count": 34,
   "metadata": {
    "collapsed": false
   },
   "outputs": [
    {
     "data": {
      "text/plain": [
       "array([[ 5.,  5.,  5.],\n",
       "       [ 5.,  5.,  5.],\n",
       "       [ 5.,  5.,  5.],\n",
       "       [ 5.,  5.,  5.]])"
      ]
     },
     "execution_count": 34,
     "metadata": {},
     "output_type": "execute_result"
    }
   ],
   "source": [
    "arr[:] = 5\n",
    "arr"
   ]
  },
  {
   "cell_type": "markdown",
   "metadata": {},
   "source": [
    "然而，如果我们有一个想要设置为列的一维数组，只要形状符合就能做到："
   ]
  },
  {
   "cell_type": "code",
   "execution_count": 35,
   "metadata": {
    "collapsed": true
   },
   "outputs": [],
   "source": [
    "col = np.array([1.28, -0.42, 0.44, 1.6])"
   ]
  },
  {
   "cell_type": "code",
   "execution_count": 37,
   "metadata": {
    "collapsed": false
   },
   "outputs": [
    {
     "data": {
      "text/plain": [
       "array([[ 1.28,  1.28,  1.28],\n",
       "       [-0.42, -0.42, -0.42],\n",
       "       [ 0.44,  0.44,  0.44],\n",
       "       [ 1.6 ,  1.6 ,  1.6 ]])"
      ]
     },
     "execution_count": 37,
     "metadata": {},
     "output_type": "execute_result"
    }
   ],
   "source": [
    "arr[:] = col[:, np.newaxis]\n",
    "arr"
   ]
  },
  {
   "cell_type": "code",
   "execution_count": 38,
   "metadata": {
    "collapsed": false
   },
   "outputs": [
    {
     "data": {
      "text/plain": [
       "array([[-1.37 , -1.37 , -1.37 ],\n",
       "       [ 0.509,  0.509,  0.509],\n",
       "       [ 0.44 ,  0.44 ,  0.44 ],\n",
       "       [ 1.6  ,  1.6  ,  1.6  ]])"
      ]
     },
     "execution_count": 38,
     "metadata": {},
     "output_type": "execute_result"
    }
   ],
   "source": [
    "arr[:2] = [[-1.37], [0.509]]\n",
    "arr"
   ]
  }
 ],
 "metadata": {
  "kernelspec": {
   "display_name": "Python [py35]",
   "language": "python",
   "name": "Python [py35]"
  },
  "language_info": {
   "codemirror_mode": {
    "name": "ipython",
    "version": 3
   },
   "file_extension": ".py",
   "mimetype": "text/x-python",
   "name": "python",
   "nbconvert_exporter": "python",
   "pygments_lexer": "ipython3",
   "version": "3.5.2"
  }
 },
 "nbformat": 4,
 "nbformat_minor": 0
}
