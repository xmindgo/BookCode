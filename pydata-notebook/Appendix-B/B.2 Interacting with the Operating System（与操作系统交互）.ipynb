{
 "cells": [
  {
   "cell_type": "markdown",
   "metadata": {},
   "source": [
    "# B.2 Interacting with the Operating System（与操作系统交互）\n",
    "\n",
    "我们可以通过ipython与OS进行交互，下面是一些命令：\n",
    "\n",
    "![](http://oydgk2hgw.bkt.clouddn.com/pydata-book/57j1i.png)\n",
    "\n",
    "![](http://oydgk2hgw.bkt.clouddn.com/pydata-book/0ca2x.png)\n",
    "\n",
    "# 1 Shell Commands and Aliases（shell命令和别名）\n",
    "\n",
    "感叹号`!`会告诉ipython执行感叹号之后的命令，我们可以利用这个进行rm或del这样的操作。\n",
    "\n",
    "我们也可以利用`!`把输出的内容保存为一个变量。比如在linux系统下，我们可以得到IP address：\n",
    "\n",
    "\n",
    "![](http://oydgk2hgw.bkt.clouddn.com/pydata-book/afb7u.png)\n",
    "\n",
    "返回的`ip_info`是一个python对象，它是一个自定义的list，包含了输出的多个版本。\n",
    "\n",
    "使用`!`，IPython也可以替换当前环境中定义的Python值。这样的话需要在变量名之前加一个美元符号`$`:"
   ]
  },
  {
   "cell_type": "code",
   "execution_count": 8,
   "metadata": {
    "collapsed": true
   },
   "outputs": [],
   "source": [
    "foo = '../Chapter-01*'"
   ]
  },
  {
   "cell_type": "code",
   "execution_count": 11,
   "metadata": {
    "collapsed": false
   },
   "outputs": [
    {
     "name": "stdout",
     "output_type": "stream",
     "text": [
      "1.1 What Is This Book About?（这本书是关于什么的）.ipynb\r\n",
      "1.2 Why Python for Data Analysis?（为什么使用Python做数据分析）.ipynb\r\n",
      "1.3 Essential Python Libraries（一些重要的Python库）.ipynb\r\n",
      "1.4 Installation and Setup（安装和设置）.ipynb\r\n",
      "1.5 Community and Conferences（社区和讨论组）+ 私货.ipynb\r\n",
      "1.6 Navigating This Book（本书导航）.ipynb\r\n"
     ]
    }
   ],
   "source": [
    "!ls $foo"
   ]
  },
  {
   "cell_type": "markdown",
   "metadata": {},
   "source": [
    "`%alias`魔法函数能自己定义快捷键。比如："
   ]
  },
  {
   "cell_type": "code",
   "execution_count": 12,
   "metadata": {
    "collapsed": true
   },
   "outputs": [],
   "source": [
    "%alias ll ls -l"
   ]
  },
  {
   "cell_type": "code",
   "execution_count": 13,
   "metadata": {
    "collapsed": false
   },
   "outputs": [
    {
     "name": "stdout",
     "output_type": "stream",
     "text": [
      "total 16\r\n",
      "lrwxr-xr-x     1 root  wheel      8  1 11 15:53 \u001b[35mX11\u001b[m\u001b[m -> /opt/X11\r\n",
      "lrwxr-xr-x     1 root  wheel      8  1 11 15:53 \u001b[35mX11R6\u001b[m\u001b[m -> /opt/X11\r\n",
      "drwxr-xr-x     3 root  wheel    102  6 24  2016 \u001b[1m\u001b[36madic\u001b[m\u001b[m\r\n",
      "drwxr-xr-x  1056 root  wheel  35904 12 16 23:49 \u001b[1m\u001b[36mbin\u001b[m\u001b[m\r\n",
      "drwxr-xr-x   258 root  wheel   8772 12 15  2016 \u001b[1m\u001b[36minclude\u001b[m\u001b[m\r\n",
      "drwxr-xr-x   287 root  wheel   9758  4  7  2017 \u001b[1m\u001b[36mlib\u001b[m\u001b[m\r\n",
      "drwxr-xr-x   188 root  wheel   6392 12 16 23:49 \u001b[1m\u001b[36mlibexec\u001b[m\u001b[m\r\n",
      "drwxrwxr-x    20 xu    admin    680 12  5 21:27 \u001b[1m\u001b[36mlocal\u001b[m\u001b[m\r\n",
      "drwxr-xr-x   243 root  wheel   8262  4  7  2017 \u001b[1m\u001b[36msbin\u001b[m\u001b[m\r\n",
      "drwxr-xr-x    46 root  wheel   1564  8 21  2016 \u001b[1m\u001b[36mshare\u001b[m\u001b[m\r\n",
      "drwxr-xr-x     4 root  wheel    136  7  9  2016 \u001b[1m\u001b[36mstandalone\u001b[m\u001b[m\r\n"
     ]
    }
   ],
   "source": [
    "ll /usr"
   ]
  },
  {
   "cell_type": "code",
   "execution_count": 15,
   "metadata": {
    "collapsed": true
   },
   "outputs": [],
   "source": [
    "%alias test_alias (cd ..; ls; cd Appendix-B)"
   ]
  },
  {
   "cell_type": "code",
   "execution_count": 16,
   "metadata": {
    "collapsed": false
   },
   "outputs": [
    {
     "name": "stdout",
     "output_type": "stream",
     "text": [
      "\u001b[1m\u001b[36mAppendix-A\u001b[m\u001b[m     \u001b[1m\u001b[36mChapter-03\u001b[m\u001b[m     \u001b[1m\u001b[36mChapter-07\u001b[m\u001b[m     \u001b[1m\u001b[36mChapter-11\u001b[m\u001b[m     \u001b[1m\u001b[36mMarkdownPhotos\u001b[m\u001b[m\r\n",
      "\u001b[1m\u001b[36mAppendix-B\u001b[m\u001b[m     \u001b[1m\u001b[36mChapter-04\u001b[m\u001b[m     \u001b[1m\u001b[36mChapter-08\u001b[m\u001b[m     \u001b[1m\u001b[36mChapter-12\u001b[m\u001b[m     \u001b[31mREADME.md\u001b[m\u001b[m\r\n",
      "\u001b[1m\u001b[36mChapter-01\u001b[m\u001b[m     \u001b[1m\u001b[36mChapter-05\u001b[m\u001b[m     \u001b[1m\u001b[36mChapter-09\u001b[m\u001b[m     \u001b[1m\u001b[36mChapter-13\u001b[m\u001b[m     \u001b[1m\u001b[36mdatasets\u001b[m\u001b[m\r\n",
      "\u001b[1m\u001b[36mChapter-02\u001b[m\u001b[m     \u001b[1m\u001b[36mChapter-06\u001b[m\u001b[m     \u001b[1m\u001b[36mChapter-10\u001b[m\u001b[m     \u001b[1m\u001b[36mChapter-14\u001b[m\u001b[m     \u001b[1m\u001b[36mexamples\u001b[m\u001b[m\r\n"
     ]
    }
   ],
   "source": [
    "test_alias"
   ]
  },
  {
   "cell_type": "markdown",
   "metadata": {},
   "source": [
    "一旦会话结束，这些自定义的别名会小时。如果想要永久创建别名的话，需要在设置文件里进行更改。\n",
    "\n",
    "> 译者：比如我使用的zsh，可以直接在.zshrc文件里设置别名。\n",
    "\n",
    "# 2 Directory Bookmark System（目录书签系统）\n",
    "\n",
    "ipython有一个简单的目录书签系统，可以让我们对目录地址保存别名后，快速进行跳转："
   ]
  },
  {
   "cell_type": "code",
   "execution_count": 17,
   "metadata": {
    "collapsed": true
   },
   "outputs": [],
   "source": [
    "%bookmark chp1 ../Chapter-01/"
   ]
  },
  {
   "cell_type": "markdown",
   "metadata": {},
   "source": [
    "然后使用cd来利用书签："
   ]
  },
  {
   "cell_type": "code",
   "execution_count": 18,
   "metadata": {
    "collapsed": false
   },
   "outputs": [
    {
     "name": "stdout",
     "output_type": "stream",
     "text": [
      "(bookmark:chp1) -> ../Chapter-01/\n",
      "/Users/xu/DLearning/GithubRepo/pydata-book/Chapter-01\n"
     ]
    }
   ],
   "source": [
    "cd chp1"
   ]
  },
  {
   "cell_type": "markdown",
   "metadata": {},
   "source": [
    "如果命名上有冲突的话，可以使用`-b`来覆盖。可以使用`-l`来列出所有的bookmarks："
   ]
  },
  {
   "cell_type": "code",
   "execution_count": 19,
   "metadata": {
    "collapsed": false
   },
   "outputs": [
    {
     "name": "stdout",
     "output_type": "stream",
     "text": [
      "Current bookmarks:\n",
      "chp1 -> ../Chapter-01/\n"
     ]
    }
   ],
   "source": [
    "%bookmark -l"
   ]
  },
  {
   "cell_type": "markdown",
   "metadata": {},
   "source": [
    "与aliase不同的是，bookmarks可以在不同的ipython会话中使用。"
   ]
  }
 ],
 "metadata": {
  "kernelspec": {
   "display_name": "Python [py35]",
   "language": "python",
   "name": "Python [py35]"
  },
  "language_info": {
   "codemirror_mode": {
    "name": "ipython",
    "version": 3
   },
   "file_extension": ".py",
   "mimetype": "text/x-python",
   "name": "python",
   "nbconvert_exporter": "python",
   "pygments_lexer": "ipython3",
   "version": "3.5.2"
  }
 },
 "nbformat": 4,
 "nbformat_minor": 0
}
