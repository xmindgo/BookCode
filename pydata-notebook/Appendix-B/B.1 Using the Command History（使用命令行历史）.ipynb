{
 "cells": [
  {
   "cell_type": "markdown",
   "metadata": {},
   "source": [
    "# APPENDIX B More on the IPython System（IPython系统的更多内容）\n",
    "\n",
    "这一章对IPython系统的一些函数进行介绍，这些函数不仅能用于控制台，还能用于jupyter。\n",
    "\n",
    "# B.1 Using the Command History（使用命令行历史）\n",
    "\n",
    "IPython会在磁盘建一个小数据库，用于保存我们每次执行的命令。这主要出于以下几个目的：\n",
    "\n",
    "- 尽可能快地寻找，补全，和执行上一次的命令\n",
    "- 在两个会话（session）之间保持命令历史记录\n",
    "- 把input/output历史记录为一个文件\n",
    "\n",
    "这些功能在shell上币在notebook上更强大，因为notebook是按每一个单独的code cell（代码块）来对input和output进行存储的。\n",
    "\n",
    "# 1 Searching and Reusing the Command History（寻找和再使用命令历史）\n",
    "\n",
    "假设我们已经在ipython的界面下，执行下面的代码：\n",
    "\n",
    "    %run first/second/third/data_script.py\n",
    "    \n",
    "之后我们对data_script.py文件做了一些改动，想要再次运行这个文件。这个时候，我们只需要输入`%run`，再按`Ctrl-P`（control键+P键）或者直接按`up arrow`（方向键中的上），这个会帮我们在之前的命令历史中，寻找开头是`%run`的命令。上面两个命令是往回寻找，`Ctrl-N`和`down arrow`是往前寻找。\n",
    "\n",
    "另一种方法是使用`Ctrl-R`，这样会跳出一个单独的行，让我们输入想要寻找的命令，这个时候只要输入几个匹配的字符即可。比如下面我们运行了这个语句：\n",
    "\n",
    "    a_command = foo(x, y, z)\n",
    "    \n",
    "然后我们敲击`Ctrl-R`，在跳出来的行输入command或者foo都能找到这个命令。\n",
    "\n",
    "# 2 Input and Output Variables（输入和输出变量）\n",
    "\n",
    "之前的两次输出，默认会存储到`_`（一个下划线）和`__`（两个下划线）："
   ]
  },
  {
   "cell_type": "code",
   "execution_count": 18,
   "metadata": {
    "collapsed": false
   },
   "outputs": [
    {
     "data": {
      "text/plain": [
       "8"
      ]
     },
     "execution_count": 18,
     "metadata": {},
     "output_type": "execute_result"
    }
   ],
   "source": [
    "2**3"
   ]
  },
  {
   "cell_type": "code",
   "execution_count": 19,
   "metadata": {
    "collapsed": false
   },
   "outputs": [
    {
     "data": {
      "text/plain": [
       "16"
      ]
     },
     "execution_count": 19,
     "metadata": {},
     "output_type": "execute_result"
    }
   ],
   "source": [
    "2**4"
   ]
  },
  {
   "cell_type": "code",
   "execution_count": 20,
   "metadata": {
    "collapsed": false
   },
   "outputs": [
    {
     "data": {
      "text/plain": [
       "32"
      ]
     },
     "execution_count": 20,
     "metadata": {},
     "output_type": "execute_result"
    }
   ],
   "source": [
    "2**5"
   ]
  },
  {
   "cell_type": "code",
   "execution_count": 21,
   "metadata": {
    "collapsed": false
   },
   "outputs": [
    {
     "data": {
      "text/plain": [
       "32"
      ]
     },
     "execution_count": 21,
     "metadata": {},
     "output_type": "execute_result"
    }
   ],
   "source": [
    "_"
   ]
  },
  {
   "cell_type": "code",
   "execution_count": 22,
   "metadata": {
    "collapsed": false
   },
   "outputs": [
    {
     "data": {
      "text/plain": [
       "32"
      ]
     },
     "execution_count": 22,
     "metadata": {},
     "output_type": "execute_result"
    }
   ],
   "source": [
    "__"
   ]
  },
  {
   "cell_type": "code",
   "execution_count": 23,
   "metadata": {
    "collapsed": false
   },
   "outputs": [
    {
     "data": {
      "text/plain": [
       "32"
      ]
     },
     "execution_count": 23,
     "metadata": {},
     "output_type": "execute_result"
    }
   ],
   "source": [
    "___"
   ]
  },
  {
   "cell_type": "markdown",
   "metadata": {},
   "source": [
    "译者：经过上面的测试，发现`_`，`__`，`___`都可以指代输出，不过只能指代之前的一次输出，不能代表倒数第二次和第三次的输出。\n",
    "\n",
    "输入的参数则是存储在类似于`_iX`这样的参数里，其中`X`是输入的行数。比如下面我们在第25行输入了foo，然后会有两个变量，其中`_25`保存输出，`_i25`保存输入。"
   ]
  },
  {
   "cell_type": "code",
   "execution_count": 24,
   "metadata": {
    "collapsed": true
   },
   "outputs": [],
   "source": [
    "foo = 'bar'"
   ]
  },
  {
   "cell_type": "code",
   "execution_count": 25,
   "metadata": {
    "collapsed": false
   },
   "outputs": [
    {
     "data": {
      "text/plain": [
       "'bar'"
      ]
     },
     "execution_count": 25,
     "metadata": {},
     "output_type": "execute_result"
    }
   ],
   "source": [
    "foo"
   ]
  },
  {
   "cell_type": "code",
   "execution_count": 27,
   "metadata": {
    "collapsed": false
   },
   "outputs": [
    {
     "data": {
      "text/plain": [
       "'foo'"
      ]
     },
     "execution_count": 27,
     "metadata": {},
     "output_type": "execute_result"
    }
   ],
   "source": [
    "_i25"
   ]
  },
  {
   "cell_type": "code",
   "execution_count": 29,
   "metadata": {
    "collapsed": false
   },
   "outputs": [
    {
     "data": {
      "text/plain": [
       "'bar'"
      ]
     },
     "execution_count": 29,
     "metadata": {},
     "output_type": "execute_result"
    }
   ],
   "source": [
    "_25"
   ]
  },
  {
   "cell_type": "markdown",
   "metadata": {},
   "source": [
    "因为输入的变量是字符串，所以可以使用python的`exec`关键字再次执行一遍："
   ]
  },
  {
   "cell_type": "code",
   "execution_count": 30,
   "metadata": {
    "collapsed": true
   },
   "outputs": [],
   "source": [
    "exec(_i25)"
   ]
  },
  {
   "cell_type": "markdown",
   "metadata": {},
   "source": [
    "这里`_i27`指代`In [25]`行的输入。\n",
    "\n",
    "有一些魔法函数（magic functions）也能让我们与输入和输出的历史交互。`%hist`会打印出所有的输入历史。"
   ]
  },
  {
   "cell_type": "code",
   "execution_count": 31,
   "metadata": {
    "collapsed": false
   },
   "outputs": [
    {
     "name": "stdout",
     "output_type": "stream",
     "text": [
      "2 ** 27\n",
      "2*4\n",
      "_\n",
      "__\n",
      "__\n",
      "__\n",
      "__\n",
      "2 ** 27\n",
      "__\n",
      "_\n",
      "1\n",
      "2\n",
      "_\n",
      "__\n",
      "___\n",
      "2*3\n",
      "2**4\n",
      "2**3\n",
      "2**4\n",
      "2**5\n",
      "_\n",
      "__\n",
      "___\n",
      "foo = 'bar'\n",
      "foo\n",
      "_i27\n",
      "_i25\n",
      "_27\n",
      "_25\n",
      "exec(_i25)\n",
      "%hist\n"
     ]
    }
   ],
   "source": [
    "%hist"
   ]
  },
  {
   "cell_type": "markdown",
   "metadata": {},
   "source": [
    "`%reset`会清楚命名空间，输入和输出的缓存："
   ]
  },
  {
   "cell_type": "code",
   "execution_count": 32,
   "metadata": {
    "collapsed": false
   },
   "outputs": [
    {
     "name": "stdout",
     "output_type": "stream",
     "text": [
      "Once deleted, variables cannot be recovered. Proceed (y/[n])? y\n"
     ]
    }
   ],
   "source": [
    "%reset"
   ]
  },
  {
   "cell_type": "code",
   "execution_count": 34,
   "metadata": {
    "collapsed": false
   },
   "outputs": [
    {
     "ename": "NameError",
     "evalue": "name 'foo' is not defined",
     "output_type": "error",
     "traceback": [
      "\u001b[0;31m---------------------------------------------------------------------------\u001b[0m",
      "\u001b[0;31mNameError\u001b[0m                                 Traceback (most recent call last)",
      "\u001b[0;32m<ipython-input-34-d3b07384d113>\u001b[0m in \u001b[0;36m<module>\u001b[0;34m()\u001b[0m\n\u001b[0;32m----> 1\u001b[0;31m \u001b[0mfoo\u001b[0m\u001b[0;34m\u001b[0m\u001b[0m\n\u001b[0m",
      "\u001b[0;31mNameError\u001b[0m: name 'foo' is not defined"
     ]
    }
   ],
   "source": [
    "foo"
   ]
  },
  {
   "cell_type": "markdown",
   "metadata": {},
   "source": [
    "`%xdel`会移除与某个特定的对象的所有依赖。\n",
    "\n",
    "当我们处理大型数据的时候，输入和输出历史并不会被回收，无法释放内存，所以使用`%xdel`和`%reset`可以释放内存。"
   ]
  }
 ],
 "metadata": {
  "kernelspec": {
   "display_name": "Python [py35]",
   "language": "python",
   "name": "Python [py35]"
  },
  "language_info": {
   "codemirror_mode": {
    "name": "ipython",
    "version": 3
   },
   "file_extension": ".py",
   "mimetype": "text/x-python",
   "name": "python",
   "nbconvert_exporter": "python",
   "pygments_lexer": "ipython3",
   "version": "3.5.2"
  }
 },
 "nbformat": 4,
 "nbformat_minor": 0
}
