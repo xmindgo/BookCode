{
 "cells": [
  {
   "cell_type": "markdown",
   "metadata": {},
   "source": [
    "# B.4 Tips for Productive Code Development Using IPython（使用IPython进行有效开发的建议）\n",
    "\n",
    "# 1 Reloading Module Dependencies（重新加载模块依赖）\n",
    "\n",
    "假设我们在一个test_script.py中有下面的代码：\n",
    "\n",
    "```\n",
    "import some_lib\n",
    "\n",
    "x = 5\n",
    "y = [1, 2, 3, 4]\n",
    "result = some_lib.get_answer(x, y)\n",
    "```\n",
    "\n",
    "然后我们进入IPython环境，运行`%run test_script.py`，然后更改了some_lib.py，再次运行`%run test_script.py`的时候，使用的还是旧版本的some_lib.py。因为python默认只加载一次。\n",
    "\n",
    "第一种解决办法，使用importlib模块的reload方法：\n",
    "```\n",
    "import some_lib \n",
    "import importlib\n",
    "\n",
    "importlib.reload(some_lib)\n",
    "```\n",
    "这样能保证每次运行test_script.py的时候，都能得到some_lib的最新版本。不过如果依赖更多，我们不得不写很多reload。针对这一点，ipython有一个dreload函数（不是魔法函数），用于递归式地重新加载模块。如果运行some_lib.py，然后输入dreload(some_lib)，会自动重新加载some_lib，而在some_lib中用到的依赖，也会被重新加载。如果不起作用的话，只能重新启动ipython了。\n",
    "\n",
    "# 2 Code Design Tips（代码设计建议）\n",
    "\n",
    "## Keep relevant objects and data alive（保持代码随时可用）\n",
    "\n",
    "\n",
    "假设我们有下面这样一段代码，在ipyhton里运行：\n",
    "\n",
    "```\n",
    "from my_functions import g\n",
    "\n",
    "def f(x, y):\n",
    "    return g(x + y)\n",
    "\n",
    "def main():\n",
    "    x = 6 \n",
    "    y = 7.5 \n",
    "    result = x + y\n",
    "\n",
    "if __name__ == '__main__':\n",
    "    main()\n",
    "```\n",
    "这样的话有一个问题，运行之后，ipython shell里不会留下任何变量或结果。所以我们应该在`main()`的部分（或`if __name__ == '__main__':`内），写一些全局的变量。这样的话，即使用%run运行完代码，我们也能检查main中定义变量。\n",
    "\n",
    "## Flat is better than nested（扁平好过嵌套）\n",
    "\n",
    "嵌套的代码就像洋葱，一层层拨开才能找到感兴趣的部分。所以写函数和类应该尽量模块化，方便test，debug。\n",
    "\n",
    "## Overcome a fear of longer files（克服对长文件的恐惧）\n",
    "\n",
    "如果你有java的背景，可能会注意保持让文件短小。对于大部分语言，这也说得通，长文件说明没有很好地对代码结构做调整。但是使用ipython的话，处理2，3个长文件很方便，但处理10个短文件反而更麻烦。因为文件小说明加载的模块少，必须在各个文件之间跳转。等我们的工作做的差不多，可以再考虑把文件重构为几个小文件。\n"
   ]
  }
 ],
 "metadata": {
  "kernelspec": {
   "display_name": "Python [py35]",
   "language": "python",
   "name": "Python [py35]"
  },
  "language_info": {
   "codemirror_mode": {
    "name": "ipython",
    "version": 3
   },
   "file_extension": ".py",
   "mimetype": "text/x-python",
   "name": "python",
   "nbconvert_exporter": "python",
   "pygments_lexer": "ipython3",
   "version": "3.5.2"
  }
 },
 "nbformat": 4,
 "nbformat_minor": 0
}
